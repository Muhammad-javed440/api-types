{
 "cells": [
  {
   "cell_type": "markdown",
   "metadata": {},
   "source": [
    "# 1- What ia LLM ?\n",
    "   LLM stands for Large Language Model. It is a type of artificial intelligence (AI) model that is trained on a massive corpus of text data to generate human-like language. LLMs are designed to understand and generate text, and they can be used for a wide range of applications, including language translation, text summarization, and chatbots.\n"
   ]
  },
  {
   "cell_type": "markdown",
   "metadata": {},
   "source": [
    "# 2-  What is SDK ?\n",
    "SDK stands for Software Development Kit. It is a collection of tools, libraries, and documentation that helps developers build, test, and deploy software applications. An SDK typically includes a set of APIs, cod ers, and other tools that allow developers to access and interact with a particular platform, service, or technology."
   ]
  },
  {
   "cell_type": "markdown",
   "metadata": {},
   "source": [
    "# 3- What is API ?\n",
    "API stands for Application Programming Interface. It is a set of defined rules that enables different applications to communicate and interact by defining request-response protocols.\n",
    "### 1- Web Api\n",
    "\n",
    "\n",
    "     It provides a way for a client to interact with a server. It is a web service that can be accessed over the web using HTTP protocol. It is used to create RESTful APIs.\n",
    "\n",
    "\n",
    "### 2- Libraray APIs \n",
    "\n",
    "    It is a set of pre-written code that can be used to perform a specific task. It is used to create reusable code."
   ]
  },
  {
   "cell_type": "markdown",
   "metadata": {},
   "source": [
    "#  What is Prompting and Completion ?\n",
    "   \n",
    "   Prompting and Completion are terms primarily used in the context of Large Language Models (LLMs), like OpenAI's GPT or other similar models. They refer to the way these models interact with users, particularly when it comes to generating text or responses based on user input."
   ]
  }
 ],
 "metadata": {
  "kernelspec": {
   "display_name": "base",
   "language": "python",
   "name": "python3"
  },
  "language_info": {
   "name": "python",
   "version": "3.12.7"
  }
 },
 "nbformat": 4,
 "nbformat_minor": 2
}
